{
 "cells": [
  {
   "cell_type": "code",
   "execution_count": 1,
   "metadata": {},
   "outputs": [],
   "source": [
    "import pandas as pd\n",
    "from sklearn.model_selection import train_test_split\n",
    "import torch\n",
    "import torch.nn as nn\n",
    "import torch.optim as optim\n",
    "from torch.utils.data import Dataset,DataLoader\n",
    "import matplotlib.pyplot as plt"
   ]
  },
  {
   "cell_type": "code",
   "execution_count": 2,
   "metadata": {},
   "outputs": [
    {
     "data": {
      "text/plain": [
       "<torch._C.Generator at 0x11d927610>"
      ]
     },
     "execution_count": 2,
     "metadata": {},
     "output_type": "execute_result"
    }
   ],
   "source": [
    "torch.manual_seed(42)"
   ]
  },
  {
   "cell_type": "code",
   "execution_count": 3,
   "metadata": {},
   "outputs": [
    {
     "data": {
      "text/html": [
       "<div>\n",
       "<style scoped>\n",
       "    .dataframe tbody tr th:only-of-type {\n",
       "        vertical-align: middle;\n",
       "    }\n",
       "\n",
       "    .dataframe tbody tr th {\n",
       "        vertical-align: top;\n",
       "    }\n",
       "\n",
       "    .dataframe thead th {\n",
       "        text-align: right;\n",
       "    }\n",
       "</style>\n",
       "<table border=\"1\" class=\"dataframe\">\n",
       "  <thead>\n",
       "    <tr style=\"text-align: right;\">\n",
       "      <th></th>\n",
       "      <th>label</th>\n",
       "      <th>pixel1</th>\n",
       "      <th>pixel2</th>\n",
       "      <th>pixel3</th>\n",
       "      <th>pixel4</th>\n",
       "      <th>pixel5</th>\n",
       "      <th>pixel6</th>\n",
       "      <th>pixel7</th>\n",
       "      <th>pixel8</th>\n",
       "      <th>pixel9</th>\n",
       "      <th>...</th>\n",
       "      <th>pixel775</th>\n",
       "      <th>pixel776</th>\n",
       "      <th>pixel777</th>\n",
       "      <th>pixel778</th>\n",
       "      <th>pixel779</th>\n",
       "      <th>pixel780</th>\n",
       "      <th>pixel781</th>\n",
       "      <th>pixel782</th>\n",
       "      <th>pixel783</th>\n",
       "      <th>pixel784</th>\n",
       "    </tr>\n",
       "  </thead>\n",
       "  <tbody>\n",
       "    <tr>\n",
       "      <th>0</th>\n",
       "      <td>9</td>\n",
       "      <td>0</td>\n",
       "      <td>0</td>\n",
       "      <td>0</td>\n",
       "      <td>0</td>\n",
       "      <td>0</td>\n",
       "      <td>0</td>\n",
       "      <td>0</td>\n",
       "      <td>0</td>\n",
       "      <td>0</td>\n",
       "      <td>...</td>\n",
       "      <td>0</td>\n",
       "      <td>7</td>\n",
       "      <td>0</td>\n",
       "      <td>50</td>\n",
       "      <td>205</td>\n",
       "      <td>196</td>\n",
       "      <td>213</td>\n",
       "      <td>165</td>\n",
       "      <td>0</td>\n",
       "      <td>0</td>\n",
       "    </tr>\n",
       "    <tr>\n",
       "      <th>1</th>\n",
       "      <td>7</td>\n",
       "      <td>0</td>\n",
       "      <td>0</td>\n",
       "      <td>0</td>\n",
       "      <td>0</td>\n",
       "      <td>0</td>\n",
       "      <td>0</td>\n",
       "      <td>0</td>\n",
       "      <td>0</td>\n",
       "      <td>0</td>\n",
       "      <td>...</td>\n",
       "      <td>0</td>\n",
       "      <td>0</td>\n",
       "      <td>0</td>\n",
       "      <td>0</td>\n",
       "      <td>0</td>\n",
       "      <td>0</td>\n",
       "      <td>0</td>\n",
       "      <td>0</td>\n",
       "      <td>0</td>\n",
       "      <td>0</td>\n",
       "    </tr>\n",
       "    <tr>\n",
       "      <th>2</th>\n",
       "      <td>0</td>\n",
       "      <td>0</td>\n",
       "      <td>0</td>\n",
       "      <td>0</td>\n",
       "      <td>0</td>\n",
       "      <td>0</td>\n",
       "      <td>1</td>\n",
       "      <td>0</td>\n",
       "      <td>0</td>\n",
       "      <td>0</td>\n",
       "      <td>...</td>\n",
       "      <td>142</td>\n",
       "      <td>142</td>\n",
       "      <td>142</td>\n",
       "      <td>21</td>\n",
       "      <td>0</td>\n",
       "      <td>3</td>\n",
       "      <td>0</td>\n",
       "      <td>0</td>\n",
       "      <td>0</td>\n",
       "      <td>0</td>\n",
       "    </tr>\n",
       "    <tr>\n",
       "      <th>3</th>\n",
       "      <td>8</td>\n",
       "      <td>0</td>\n",
       "      <td>0</td>\n",
       "      <td>0</td>\n",
       "      <td>0</td>\n",
       "      <td>0</td>\n",
       "      <td>0</td>\n",
       "      <td>0</td>\n",
       "      <td>0</td>\n",
       "      <td>0</td>\n",
       "      <td>...</td>\n",
       "      <td>0</td>\n",
       "      <td>0</td>\n",
       "      <td>0</td>\n",
       "      <td>0</td>\n",
       "      <td>0</td>\n",
       "      <td>0</td>\n",
       "      <td>0</td>\n",
       "      <td>0</td>\n",
       "      <td>0</td>\n",
       "      <td>0</td>\n",
       "    </tr>\n",
       "    <tr>\n",
       "      <th>4</th>\n",
       "      <td>8</td>\n",
       "      <td>0</td>\n",
       "      <td>0</td>\n",
       "      <td>0</td>\n",
       "      <td>0</td>\n",
       "      <td>0</td>\n",
       "      <td>0</td>\n",
       "      <td>0</td>\n",
       "      <td>0</td>\n",
       "      <td>0</td>\n",
       "      <td>...</td>\n",
       "      <td>213</td>\n",
       "      <td>203</td>\n",
       "      <td>174</td>\n",
       "      <td>151</td>\n",
       "      <td>188</td>\n",
       "      <td>10</td>\n",
       "      <td>0</td>\n",
       "      <td>0</td>\n",
       "      <td>0</td>\n",
       "      <td>0</td>\n",
       "    </tr>\n",
       "  </tbody>\n",
       "</table>\n",
       "<p>5 rows × 785 columns</p>\n",
       "</div>"
      ],
      "text/plain": [
       "   label  pixel1  pixel2  pixel3  pixel4  pixel5  pixel6  pixel7  pixel8  \\\n",
       "0      9       0       0       0       0       0       0       0       0   \n",
       "1      7       0       0       0       0       0       0       0       0   \n",
       "2      0       0       0       0       0       0       1       0       0   \n",
       "3      8       0       0       0       0       0       0       0       0   \n",
       "4      8       0       0       0       0       0       0       0       0   \n",
       "\n",
       "   pixel9  ...  pixel775  pixel776  pixel777  pixel778  pixel779  pixel780  \\\n",
       "0       0  ...         0         7         0        50       205       196   \n",
       "1       0  ...         0         0         0         0         0         0   \n",
       "2       0  ...       142       142       142        21         0         3   \n",
       "3       0  ...         0         0         0         0         0         0   \n",
       "4       0  ...       213       203       174       151       188        10   \n",
       "\n",
       "   pixel781  pixel782  pixel783  pixel784  \n",
       "0       213       165         0         0  \n",
       "1         0         0         0         0  \n",
       "2         0         0         0         0  \n",
       "3         0         0         0         0  \n",
       "4         0         0         0         0  \n",
       "\n",
       "[5 rows x 785 columns]"
      ]
     },
     "execution_count": 3,
     "metadata": {},
     "output_type": "execute_result"
    }
   ],
   "source": [
    "df = pd.read_csv(\"fmnist_small.csv\")\n",
    "df.head()"
   ]
  },
  {
   "cell_type": "code",
   "execution_count": 4,
   "metadata": {},
   "outputs": [],
   "source": [
    "#train test split\n",
    "x = df.iloc[:,1:].values\n",
    "y = df.iloc[:,0].values"
   ]
  },
  {
   "cell_type": "code",
   "execution_count": 5,
   "metadata": {},
   "outputs": [],
   "source": [
    "x_train,x_test,y_train,y_test = train_test_split(x,y , test_size=0.2 , random_state=42)"
   ]
  },
  {
   "cell_type": "code",
   "execution_count": 6,
   "metadata": {},
   "outputs": [],
   "source": [
    "#scaling the features, basically we are normalizing the values to an smaller intervals (0-1)\n",
    "x_train = x_train/255.0\n",
    "x_test = x_test/255.0"
   ]
  },
  {
   "cell_type": "code",
   "execution_count": 7,
   "metadata": {},
   "outputs": [],
   "source": [
    "#creating custom dataset\n",
    "class CustomDataset(Dataset):\n",
    "\n",
    "    def __init__(self,features,labels):\n",
    "        \n",
    "        self.features = torch.tensor(features, dtype=torch.float32)\n",
    "        self.labels = torch.tensor(labels,dtype=torch.long)\n",
    "    \n",
    "    def __len__(self):\n",
    "        return len(self.features)\n",
    "\n",
    "    def __getitem__(self,index):\n",
    "        return self.features[index],self.labels[index]"
   ]
  },
  {
   "cell_type": "code",
   "execution_count": 8,
   "metadata": {},
   "outputs": [],
   "source": [
    "#create train_dataset object\n",
    "train_dataset = CustomDataset(x_train,y_train)"
   ]
  },
  {
   "cell_type": "code",
   "execution_count": 9,
   "metadata": {},
   "outputs": [
    {
     "data": {
      "text/plain": [
       "4800"
      ]
     },
     "execution_count": 9,
     "metadata": {},
     "output_type": "execute_result"
    }
   ],
   "source": [
    "len(train_dataset)"
   ]
  },
  {
   "cell_type": "code",
   "execution_count": 10,
   "metadata": {},
   "outputs": [],
   "source": [
    "#create train_dataset object\n",
    "test_dataset = CustomDataset(x_test,y_test)"
   ]
  },
  {
   "cell_type": "code",
   "execution_count": 11,
   "metadata": {},
   "outputs": [
    {
     "data": {
      "text/plain": [
       "1200"
      ]
     },
     "execution_count": 11,
     "metadata": {},
     "output_type": "execute_result"
    }
   ],
   "source": [
    "len(test_dataset)"
   ]
  },
  {
   "cell_type": "code",
   "execution_count": 12,
   "metadata": {},
   "outputs": [],
   "source": [
    "#creating train and test loader\n",
    "train_loader = DataLoader(train_dataset,batch_size=32,shuffle=True)\n",
    "test_loader = DataLoader(test_dataset,batch_size=32,shuffle=False)"
   ]
  },
  {
   "cell_type": "code",
   "execution_count": 13,
   "metadata": {},
   "outputs": [],
   "source": [
    "#define nn class\n",
    "class MyNN(nn.Module):\n",
    "    \n",
    "    def __init__(self,num_features):\n",
    "        super().__init__()\n",
    "\n",
    "        self.model = nn.Sequential(\n",
    "            nn.Linear(num_features,128),\n",
    "            nn.ReLU(),\n",
    "            nn.Linear(128,64),\n",
    "            nn.ReLU(),\n",
    "            nn.Linear(64,10)\n",
    "        )\n",
    "    def forward(self,x):\n",
    "        return self.model(x)"
   ]
  },
  {
   "cell_type": "code",
   "execution_count": 14,
   "metadata": {},
   "outputs": [],
   "source": [
    "#set learning rate and epochs\n",
    "learning_rate = 0.1\n",
    "epochs = 100"
   ]
  },
  {
   "cell_type": "code",
   "execution_count": 15,
   "metadata": {},
   "outputs": [],
   "source": [
    "#instantiate the model\n",
    "model = MyNN(x_train.shape[1])\n",
    "\n",
    "#loss function\n",
    "criterion = nn.CrossEntropyLoss()\n",
    "\n",
    "#optimizer\n",
    "optimizer = optim.SGD(model.parameters(),lr =learning_rate)"
   ]
  },
  {
   "cell_type": "code",
   "execution_count": 16,
   "metadata": {},
   "outputs": [
    {
     "name": "stdout",
     "output_type": "stream",
     "text": [
      "Epoch:1 and Loss : 1.3216368583838145\n",
      "Epoch:2 and Loss : 0.7793365317583084\n",
      "Epoch:3 and Loss : 0.6427524542808533\n",
      "Epoch:4 and Loss : 0.5751657458146413\n",
      "Epoch:5 and Loss : 0.5278772719701131\n",
      "Epoch:6 and Loss : 0.49531099418799085\n",
      "Epoch:7 and Loss : 0.4619268523653348\n",
      "Epoch:8 and Loss : 0.43578990375002224\n",
      "Epoch:9 and Loss : 0.41821308076381686\n",
      "Epoch:10 and Loss : 0.39949775497118634\n",
      "Epoch:11 and Loss : 0.38570138782262803\n",
      "Epoch:12 and Loss : 0.3719716985026995\n",
      "Epoch:13 and Loss : 0.3493794798851013\n",
      "Epoch:14 and Loss : 0.3455629136164983\n",
      "Epoch:15 and Loss : 0.31592130129535995\n",
      "Epoch:16 and Loss : 0.3110544161498547\n",
      "Epoch:17 and Loss : 0.2934306888779004\n",
      "Epoch:18 and Loss : 0.2854089424510797\n",
      "Epoch:19 and Loss : 0.2734348543733358\n",
      "Epoch:20 and Loss : 0.2617666217436393\n",
      "Epoch:21 and Loss : 0.26644358336925505\n",
      "Epoch:22 and Loss : 0.24347751920421917\n",
      "Epoch:23 and Loss : 0.23926382559041182\n",
      "Epoch:24 and Loss : 0.225456866795818\n",
      "Epoch:25 and Loss : 0.22396456686158975\n",
      "Epoch:26 and Loss : 0.21319957663615544\n",
      "Epoch:27 and Loss : 0.21745977687338988\n",
      "Epoch:28 and Loss : 0.20949112041542928\n",
      "Epoch:29 and Loss : 0.18774723796794812\n",
      "Epoch:30 and Loss : 0.1831590911746025\n",
      "Epoch:31 and Loss : 0.1850793537000815\n",
      "Epoch:32 and Loss : 0.1897381368279457\n",
      "Epoch:33 and Loss : 0.18146842195341983\n",
      "Epoch:34 and Loss : 0.17136604441950717\n",
      "Epoch:35 and Loss : 0.1613607107847929\n",
      "Epoch:36 and Loss : 0.1720596926410993\n",
      "Epoch:37 and Loss : 0.1591877956377963\n",
      "Epoch:38 and Loss : 0.15473619190355142\n",
      "Epoch:39 and Loss : 0.14556551848848662\n",
      "Epoch:40 and Loss : 0.14205251597023258\n",
      "Epoch:41 and Loss : 0.13882490705698727\n",
      "Epoch:42 and Loss : 0.13659877913072704\n",
      "Epoch:43 and Loss : 0.12747316523765526\n",
      "Epoch:44 and Loss : 0.12546792487303415\n",
      "Epoch:45 and Loss : 0.11087894077102343\n",
      "Epoch:46 and Loss : 0.12196808967118462\n",
      "Epoch:47 and Loss : 0.1074526464069883\n",
      "Epoch:48 and Loss : 0.12500210372110207\n",
      "Epoch:49 and Loss : 0.09353309777875742\n",
      "Epoch:50 and Loss : 0.09930558383464813\n",
      "Epoch:51 and Loss : 0.10851719196264943\n",
      "Epoch:52 and Loss : 0.09403254467373093\n",
      "Epoch:53 and Loss : 0.0961376469520231\n",
      "Epoch:54 and Loss : 0.08349653048130373\n",
      "Epoch:55 and Loss : 0.0811823437238733\n",
      "Epoch:56 and Loss : 0.0899941881497701\n",
      "Epoch:57 and Loss : 0.09551288709665338\n",
      "Epoch:58 and Loss : 0.11234512159600854\n",
      "Epoch:59 and Loss : 0.08976590374174218\n",
      "Epoch:60 and Loss : 0.0887928021637102\n",
      "Epoch:61 and Loss : 0.06619714837210874\n",
      "Epoch:62 and Loss : 0.05327398235987251\n",
      "Epoch:63 and Loss : 0.07540478852267067\n",
      "Epoch:64 and Loss : 0.0685481684577341\n",
      "Epoch:65 and Loss : 0.05970010321121663\n",
      "Epoch:66 and Loss : 0.06781958664146562\n",
      "Epoch:67 and Loss : 0.058190700447497266\n",
      "Epoch:68 and Loss : 0.0618333155894652\n",
      "Epoch:69 and Loss : 0.07311754710661868\n",
      "Epoch:70 and Loss : 0.06283735661301762\n",
      "Epoch:71 and Loss : 0.041512309386550136\n",
      "Epoch:72 and Loss : 0.05480311553847666\n",
      "Epoch:73 and Loss : 0.06429678498301655\n",
      "Epoch:74 and Loss : 0.03711070399032906\n",
      "Epoch:75 and Loss : 0.031255442866434655\n",
      "Epoch:76 and Loss : 0.03972702420394247\n",
      "Epoch:77 and Loss : 0.03235520439571701\n",
      "Epoch:78 and Loss : 0.041447406078999244\n",
      "Epoch:79 and Loss : 0.029995711934752763\n",
      "Epoch:80 and Loss : 0.04371741034080818\n",
      "Epoch:81 and Loss : 0.035684957350604236\n",
      "Epoch:82 and Loss : 0.02789780718895296\n",
      "Epoch:83 and Loss : 0.020825589710536104\n",
      "Epoch:84 and Loss : 0.02218845590793838\n",
      "Epoch:85 and Loss : 0.11703333194755638\n",
      "Epoch:86 and Loss : 0.032521601398475465\n",
      "Epoch:87 and Loss : 0.035625775581380976\n",
      "Epoch:88 and Loss : 0.01668446734411797\n",
      "Epoch:89 and Loss : 0.018673366716636036\n",
      "Epoch:90 and Loss : 0.039748570711817595\n",
      "Epoch:91 and Loss : 0.04280906982642288\n",
      "Epoch:92 and Loss : 0.018968573297994833\n",
      "Epoch:93 and Loss : 0.02252270546120902\n",
      "Epoch:94 and Loss : 0.019344810259450847\n",
      "Epoch:95 and Loss : 0.018135144404368475\n",
      "Epoch:96 and Loss : 0.012921486168925184\n",
      "Epoch:97 and Loss : 0.06207418295748842\n",
      "Epoch:98 and Loss : 0.036632396397180855\n",
      "Epoch:99 and Loss : 0.020820919515487427\n",
      "Epoch:100 and Loss : 0.009666585778274263\n"
     ]
    }
   ],
   "source": [
    "#training loop\n",
    "for epoch in range(epochs):\n",
    "\n",
    "    total_epoch_loss = 0\n",
    "\n",
    "    for batch_features, batch_labels in train_loader:\n",
    "\n",
    "        #forward pass\n",
    "        outputs = model(batch_features)\n",
    "        #loss calculation\n",
    "        loss =criterion(outputs,batch_labels)\n",
    "        #backpropagation\n",
    "        optimizer.zero_grad()\n",
    "        loss.backward()\n",
    "        #update the parameters\n",
    "        optimizer.step()\n",
    "\n",
    "        total_epoch_loss = total_epoch_loss + loss.item()\n",
    "\n",
    "    avg_loss = total_epoch_loss/len(train_loader)\n",
    "    print(f\"Epoch:{epoch +1} and Loss : {avg_loss}\")\n",
    "        "
   ]
  },
  {
   "cell_type": "code",
   "execution_count": 18,
   "metadata": {},
   "outputs": [
    {
     "data": {
      "text/plain": [
       "MyNN(\n",
       "  (model): Sequential(\n",
       "    (0): Linear(in_features=784, out_features=128, bias=True)\n",
       "    (1): ReLU()\n",
       "    (2): Linear(in_features=128, out_features=64, bias=True)\n",
       "    (3): ReLU()\n",
       "    (4): Linear(in_features=64, out_features=10, bias=True)\n",
       "  )\n",
       ")"
      ]
     },
     "execution_count": 18,
     "metadata": {},
     "output_type": "execute_result"
    }
   ],
   "source": [
    "#set the model to eval mode\n",
    "model.eval()"
   ]
  },
  {
   "cell_type": "code",
   "execution_count": 29,
   "metadata": {},
   "outputs": [
    {
     "name": "stdout",
     "output_type": "stream",
     "text": [
      "0.7966666666666666\n"
     ]
    }
   ],
   "source": [
    "#evaluation \n",
    "total = 0\n",
    "correct = 0\n",
    "with torch.no_grad():\n",
    "    for batch_features,batch_labels in test_loader:\n",
    "\n",
    "        outputs = model(batch_features)\n",
    "        _,predicted = torch.max(outputs,1)\n",
    "        \n",
    "        total = total + batch_features.shape[0]\n",
    "        correct = correct + (predicted == batch_labels).sum().item() \n",
    "    \n",
    "    accuracy = correct/total\n",
    "    print(accuracy)\n",
    "\n",
    "        "
   ]
  },
  {
   "cell_type": "code",
   "execution_count": null,
   "metadata": {},
   "outputs": [],
   "source": []
  }
 ],
 "metadata": {
  "kernelspec": {
   "display_name": ".venv",
   "language": "python",
   "name": "python3"
  },
  "language_info": {
   "codemirror_mode": {
    "name": "ipython",
    "version": 3
   },
   "file_extension": ".py",
   "mimetype": "text/x-python",
   "name": "python",
   "nbconvert_exporter": "python",
   "pygments_lexer": "ipython3",
   "version": "3.13.2"
  }
 },
 "nbformat": 4,
 "nbformat_minor": 2
}
